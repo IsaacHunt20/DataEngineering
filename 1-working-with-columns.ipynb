{
  "cells": [
    {
      "cell_type": "markdown",
      "metadata": {
        "id": "gyvqKOHgk6k_"
      },
      "source": [
        "# Working with columns"
      ]
    },
    {
      "cell_type": "markdown",
      "metadata": {
        "id": "wAM5cS9yk6lD"
      },
      "source": [
        "### Introduction"
      ]
    },
    {
      "cell_type": "markdown",
      "metadata": {
        "id": "tY6eLrU_k6lD"
      },
      "source": [
        "In the last lesson, we learned about selecting loading in data with a pandas dataframe, and learned about the components of a dataframe, series, and index.  In this lesson, we'll dig further into working with a dataframe by seeing how we can better explore our data by selecting specific *columns* from a dataframe -- after all this is a lot of what we'll do in pandas.  \n",
        "\n",
        "Ok, let's see this."
      ]
    },
    {
      "cell_type": "markdown",
      "metadata": {
        "id": "zVF-QOxPk6lE"
      },
      "source": [
        "### Exploring Columns"
      ]
    },
    {
      "cell_type": "markdown",
      "metadata": {
        "id": "lKIrDuefk6lE"
      },
      "source": [
        "We'll start by once again loading up our data."
      ]
    },
    {
      "cell_type": "code",
      "execution_count": 1,
      "metadata": {
        "id": "REqloavwk6lE",
        "outputId": "a1d54380-b979-48ea-d0d4-bb3ba2d8f994",
        "colab": {
          "base_uri": "https://localhost:8080/",
          "height": 98
        }
      },
      "outputs": [
        {
          "output_type": "execute_result",
          "data": {
            "text/plain": [
              "  reportedCity                dateOfLoss elevatedBuildingIndicator floodZone  \\\n",
              "0      HOUSTON  2017-08-27T00:00:00.000Z                     False         X   \n",
              "\n",
              "   latitude  longitude  lowestFloodElevation  amountPaidOnBuildingClaim  \\\n",
              "0      29.7      -95.5                   NaN                  195857.43   \n",
              "\n",
              "   amountPaidOnContentsClaim                yearofLoss  reportedZipcode  \\\n",
              "0                        0.0  2017-01-01T00:00:00.000Z            77096   \n",
              "\n",
              "                         id  \n",
              "0  5e398d6774cbd479fc898dea  "
            ],
            "text/html": [
              "\n",
              "  <div id=\"df-35980a77-a6de-4833-913b-ef68f652361d\" class=\"colab-df-container\">\n",
              "    <div>\n",
              "<style scoped>\n",
              "    .dataframe tbody tr th:only-of-type {\n",
              "        vertical-align: middle;\n",
              "    }\n",
              "\n",
              "    .dataframe tbody tr th {\n",
              "        vertical-align: top;\n",
              "    }\n",
              "\n",
              "    .dataframe thead th {\n",
              "        text-align: right;\n",
              "    }\n",
              "</style>\n",
              "<table border=\"1\" class=\"dataframe\">\n",
              "  <thead>\n",
              "    <tr style=\"text-align: right;\">\n",
              "      <th></th>\n",
              "      <th>reportedCity</th>\n",
              "      <th>dateOfLoss</th>\n",
              "      <th>elevatedBuildingIndicator</th>\n",
              "      <th>floodZone</th>\n",
              "      <th>latitude</th>\n",
              "      <th>longitude</th>\n",
              "      <th>lowestFloodElevation</th>\n",
              "      <th>amountPaidOnBuildingClaim</th>\n",
              "      <th>amountPaidOnContentsClaim</th>\n",
              "      <th>yearofLoss</th>\n",
              "      <th>reportedZipcode</th>\n",
              "      <th>id</th>\n",
              "    </tr>\n",
              "  </thead>\n",
              "  <tbody>\n",
              "    <tr>\n",
              "      <th>0</th>\n",
              "      <td>HOUSTON</td>\n",
              "      <td>2017-08-27T00:00:00.000Z</td>\n",
              "      <td>False</td>\n",
              "      <td>X</td>\n",
              "      <td>29.7</td>\n",
              "      <td>-95.5</td>\n",
              "      <td>NaN</td>\n",
              "      <td>195857.43</td>\n",
              "      <td>0.0</td>\n",
              "      <td>2017-01-01T00:00:00.000Z</td>\n",
              "      <td>77096</td>\n",
              "      <td>5e398d6774cbd479fc898dea</td>\n",
              "    </tr>\n",
              "  </tbody>\n",
              "</table>\n",
              "</div>\n",
              "    <div class=\"colab-df-buttons\">\n",
              "\n",
              "  <div class=\"colab-df-container\">\n",
              "    <button class=\"colab-df-convert\" onclick=\"convertToInteractive('df-35980a77-a6de-4833-913b-ef68f652361d')\"\n",
              "            title=\"Convert this dataframe to an interactive table.\"\n",
              "            style=\"display:none;\">\n",
              "\n",
              "  <svg xmlns=\"http://www.w3.org/2000/svg\" height=\"24px\" viewBox=\"0 -960 960 960\">\n",
              "    <path d=\"M120-120v-720h720v720H120Zm60-500h600v-160H180v160Zm220 220h160v-160H400v160Zm0 220h160v-160H400v160ZM180-400h160v-160H180v160Zm440 0h160v-160H620v160ZM180-180h160v-160H180v160Zm440 0h160v-160H620v160Z\"/>\n",
              "  </svg>\n",
              "    </button>\n",
              "\n",
              "  <style>\n",
              "    .colab-df-container {\n",
              "      display:flex;\n",
              "      gap: 12px;\n",
              "    }\n",
              "\n",
              "    .colab-df-convert {\n",
              "      background-color: #E8F0FE;\n",
              "      border: none;\n",
              "      border-radius: 50%;\n",
              "      cursor: pointer;\n",
              "      display: none;\n",
              "      fill: #1967D2;\n",
              "      height: 32px;\n",
              "      padding: 0 0 0 0;\n",
              "      width: 32px;\n",
              "    }\n",
              "\n",
              "    .colab-df-convert:hover {\n",
              "      background-color: #E2EBFA;\n",
              "      box-shadow: 0px 1px 2px rgba(60, 64, 67, 0.3), 0px 1px 3px 1px rgba(60, 64, 67, 0.15);\n",
              "      fill: #174EA6;\n",
              "    }\n",
              "\n",
              "    .colab-df-buttons div {\n",
              "      margin-bottom: 4px;\n",
              "    }\n",
              "\n",
              "    [theme=dark] .colab-df-convert {\n",
              "      background-color: #3B4455;\n",
              "      fill: #D2E3FC;\n",
              "    }\n",
              "\n",
              "    [theme=dark] .colab-df-convert:hover {\n",
              "      background-color: #434B5C;\n",
              "      box-shadow: 0px 1px 3px 1px rgba(0, 0, 0, 0.15);\n",
              "      filter: drop-shadow(0px 1px 2px rgba(0, 0, 0, 0.3));\n",
              "      fill: #FFFFFF;\n",
              "    }\n",
              "  </style>\n",
              "\n",
              "    <script>\n",
              "      const buttonEl =\n",
              "        document.querySelector('#df-35980a77-a6de-4833-913b-ef68f652361d button.colab-df-convert');\n",
              "      buttonEl.style.display =\n",
              "        google.colab.kernel.accessAllowed ? 'block' : 'none';\n",
              "\n",
              "      async function convertToInteractive(key) {\n",
              "        const element = document.querySelector('#df-35980a77-a6de-4833-913b-ef68f652361d');\n",
              "        const dataTable =\n",
              "          await google.colab.kernel.invokeFunction('convertToInteractive',\n",
              "                                                    [key], {});\n",
              "        if (!dataTable) return;\n",
              "\n",
              "        const docLinkHtml = 'Like what you see? Visit the ' +\n",
              "          '<a target=\"_blank\" href=https://colab.research.google.com/notebooks/data_table.ipynb>data table notebook</a>'\n",
              "          + ' to learn more about interactive tables.';\n",
              "        element.innerHTML = '';\n",
              "        dataTable['output_type'] = 'display_data';\n",
              "        await google.colab.output.renderOutput(dataTable, element);\n",
              "        const docLink = document.createElement('div');\n",
              "        docLink.innerHTML = docLinkHtml;\n",
              "        element.appendChild(docLink);\n",
              "      }\n",
              "    </script>\n",
              "  </div>\n",
              "\n",
              "\n",
              "    </div>\n",
              "  </div>\n"
            ],
            "application/vnd.google.colaboratory.intrinsic+json": {
              "type": "dataframe",
              "summary": "{\n  \"name\": \"df[:1]\",\n  \"rows\": 1,\n  \"fields\": [\n    {\n      \"column\": \"reportedCity\",\n      \"properties\": {\n        \"dtype\": \"string\",\n        \"num_unique_values\": 1,\n        \"samples\": [\n          \"HOUSTON\"\n        ],\n        \"semantic_type\": \"\",\n        \"description\": \"\"\n      }\n    },\n    {\n      \"column\": \"dateOfLoss\",\n      \"properties\": {\n        \"dtype\": \"object\",\n        \"num_unique_values\": 1,\n        \"samples\": [\n          \"2017-08-27T00:00:00.000Z\"\n        ],\n        \"semantic_type\": \"\",\n        \"description\": \"\"\n      }\n    },\n    {\n      \"column\": \"elevatedBuildingIndicator\",\n      \"properties\": {\n        \"dtype\": \"string\",\n        \"num_unique_values\": 1,\n        \"samples\": [\n          false\n        ],\n        \"semantic_type\": \"\",\n        \"description\": \"\"\n      }\n    },\n    {\n      \"column\": \"floodZone\",\n      \"properties\": {\n        \"dtype\": \"string\",\n        \"num_unique_values\": 1,\n        \"samples\": [\n          \"X\"\n        ],\n        \"semantic_type\": \"\",\n        \"description\": \"\"\n      }\n    },\n    {\n      \"column\": \"latitude\",\n      \"properties\": {\n        \"dtype\": \"number\",\n        \"std\": null,\n        \"min\": 29.7,\n        \"max\": 29.7,\n        \"num_unique_values\": 1,\n        \"samples\": [\n          29.7\n        ],\n        \"semantic_type\": \"\",\n        \"description\": \"\"\n      }\n    },\n    {\n      \"column\": \"longitude\",\n      \"properties\": {\n        \"dtype\": \"number\",\n        \"std\": null,\n        \"min\": -95.5,\n        \"max\": -95.5,\n        \"num_unique_values\": 1,\n        \"samples\": [\n          -95.5\n        ],\n        \"semantic_type\": \"\",\n        \"description\": \"\"\n      }\n    },\n    {\n      \"column\": \"lowestFloodElevation\",\n      \"properties\": {\n        \"dtype\": \"number\",\n        \"std\": null,\n        \"min\": null,\n        \"max\": null,\n        \"num_unique_values\": 0,\n        \"samples\": [],\n        \"semantic_type\": \"\",\n        \"description\": \"\"\n      }\n    },\n    {\n      \"column\": \"amountPaidOnBuildingClaim\",\n      \"properties\": {\n        \"dtype\": \"number\",\n        \"std\": null,\n        \"min\": 195857.43,\n        \"max\": 195857.43,\n        \"num_unique_values\": 1,\n        \"samples\": [],\n        \"semantic_type\": \"\",\n        \"description\": \"\"\n      }\n    },\n    {\n      \"column\": \"amountPaidOnContentsClaim\",\n      \"properties\": {\n        \"dtype\": \"number\",\n        \"std\": null,\n        \"min\": 0.0,\n        \"max\": 0.0,\n        \"num_unique_values\": 1,\n        \"samples\": [],\n        \"semantic_type\": \"\",\n        \"description\": \"\"\n      }\n    },\n    {\n      \"column\": \"yearofLoss\",\n      \"properties\": {\n        \"dtype\": \"object\",\n        \"num_unique_values\": 1,\n        \"samples\": [],\n        \"semantic_type\": \"\",\n        \"description\": \"\"\n      }\n    },\n    {\n      \"column\": \"reportedZipcode\",\n      \"properties\": {\n        \"dtype\": \"number\",\n        \"std\": null,\n        \"min\": 77096,\n        \"max\": 77096,\n        \"num_unique_values\": 1,\n        \"samples\": [],\n        \"semantic_type\": \"\",\n        \"description\": \"\"\n      }\n    },\n    {\n      \"column\": \"id\",\n      \"properties\": {\n        \"dtype\": \"string\",\n        \"num_unique_values\": 1,\n        \"samples\": [],\n        \"semantic_type\": \"\",\n        \"description\": \"\"\n      }\n    }\n  ]\n}"
            }
          },
          "metadata": {},
          "execution_count": 1
        }
      ],
      "source": [
        "import pandas as pd\n",
        "url = \"https://raw.githubusercontent.com/jigsawlabs-student/pandas-free-curriculum/master/houston_claims.csv\"\n",
        "df = pd.read_csv(url, index_col = 0)\n",
        "df[:1]"
      ]
    },
    {
      "cell_type": "markdown",
      "metadata": {
        "id": "jd0o37V4k6lG"
      },
      "source": [
        "Now let's see a list of all of the columns by using the `columns` method."
      ]
    },
    {
      "cell_type": "code",
      "execution_count": null,
      "metadata": {
        "id": "XAsWjuzhk6lG",
        "outputId": "c606ef12-ab26-49e6-f39f-21440fcac183"
      },
      "outputs": [
        {
          "data": {
            "text/plain": [
              "Index(['reportedCity', 'dateOfLoss', 'elevatedBuildingIndicator', 'floodZone',\n",
              "       'latitude', 'longitude', 'lowestFloodElevation',\n",
              "       'amountPaidOnBuildingClaim', 'amountPaidOnContentsClaim', 'yearofLoss',\n",
              "       'reportedZipcode', 'id'],\n",
              "      dtype='object')"
            ]
          },
          "execution_count": 4,
          "metadata": {},
          "output_type": "execute_result"
        }
      ],
      "source": [
        "df.columns"
      ]
    },
    {
      "cell_type": "markdown",
      "metadata": {
        "id": "4PYCb7D7k6lG"
      },
      "source": [
        "### Selecting a single column"
      ]
    },
    {
      "cell_type": "markdown",
      "metadata": {
        "id": "ftS_LkU4k6lG"
      },
      "source": [
        "Once we've seen the various columns in our dataframe, it's time to select a specific column to focus in on.  We do so by using the bracket accessors `[]`."
      ]
    },
    {
      "cell_type": "code",
      "execution_count": null,
      "metadata": {
        "id": "ao6w_nmLk6lH",
        "outputId": "9e05013f-8aac-4ce9-c426-c62796c0596d"
      },
      "outputs": [
        {
          "data": {
            "text/plain": [
              "0        2017-08-27T00:00:00.000Z\n",
              "1        2008-09-12T00:00:00.000Z\n",
              "2        2004-06-29T00:00:00.000Z\n",
              "3        2009-04-28T00:00:00.000Z\n",
              "4        2001-06-09T00:00:00.000Z\n",
              "                   ...           \n",
              "19995    2017-08-26T00:00:00.000Z\n",
              "19996    2015-05-26T00:00:00.000Z\n",
              "19997    2017-08-27T00:00:00.000Z\n",
              "19998    2016-04-18T00:00:00.000Z\n",
              "19999    2017-08-26T00:00:00.000Z\n",
              "Name: dateOfLoss, Length: 20000, dtype: object"
            ]
          },
          "execution_count": 5,
          "metadata": {},
          "output_type": "execute_result"
        }
      ],
      "source": [
        "df['dateOfLoss']"
      ]
    },
    {
      "cell_type": "markdown",
      "metadata": {
        "id": "I8u7qsAPk6lH"
      },
      "source": [
        "So above we saw that one way to select a column with our bracket accessors, `[]`.  A second way to select a specific column is with the dot notation and the name of the column."
      ]
    },
    {
      "cell_type": "code",
      "execution_count": null,
      "metadata": {
        "id": "odwczw8kk6lH",
        "outputId": "bc91556a-d7eb-4220-f772-9503fe9e8980"
      },
      "outputs": [
        {
          "data": {
            "text/plain": [
              "0        2017-08-27T00:00:00.000Z\n",
              "1        2008-09-12T00:00:00.000Z\n",
              "2        2004-06-29T00:00:00.000Z\n",
              "3        2009-04-28T00:00:00.000Z\n",
              "4        2001-06-09T00:00:00.000Z\n",
              "                   ...           \n",
              "19995    2017-08-26T00:00:00.000Z\n",
              "19996    2015-05-26T00:00:00.000Z\n",
              "19997    2017-08-27T00:00:00.000Z\n",
              "19998    2016-04-18T00:00:00.000Z\n",
              "19999    2017-08-26T00:00:00.000Z\n",
              "Name: dateOfLoss, Length: 20000, dtype: object"
            ]
          },
          "execution_count": 6,
          "metadata": {},
          "output_type": "execute_result"
        }
      ],
      "source": [
        "df.dateOfLoss"
      ]
    },
    {
      "cell_type": "markdown",
      "metadata": {
        "id": "b9qcRY-Nk6lH"
      },
      "source": [
        "Now oftentimes, we'll want to hold onto a column by assigning a selected column to a variable.  Below, assign the column `amountPaidOnBuildingClaim` to the variable `building_amount`."
      ]
    },
    {
      "cell_type": "code",
      "execution_count": null,
      "metadata": {
        "id": "UZIC2HAik6lH"
      },
      "outputs": [],
      "source": [
        "building_amount = None"
      ]
    },
    {
      "cell_type": "markdown",
      "metadata": {
        "id": "bNsKAJFHk6lH"
      },
      "source": [
        "### Selecting mulitple columns"
      ]
    },
    {
      "cell_type": "markdown",
      "metadata": {
        "id": "YXxJl3Jwk6lI"
      },
      "source": [
        "Now let's move onto selecting multiple columns.  Once again, we'll start by looking at all of our columns."
      ]
    },
    {
      "cell_type": "code",
      "execution_count": null,
      "metadata": {
        "id": "qqIe8l3Sk6lI",
        "outputId": "e900b6d3-9d8d-4712-9373-8e3154048853"
      },
      "outputs": [
        {
          "data": {
            "text/plain": [
              "Index(['reportedCity', 'dateOfLoss', 'elevatedBuildingIndicator', 'floodZone',\n",
              "       'latitude', 'longitude', 'lowestFloodElevation',\n",
              "       'amountPaidOnBuildingClaim', 'amountPaidOnContentsClaim', 'yearofLoss',\n",
              "       'reportedZipcode', 'id'],\n",
              "      dtype='object')"
            ]
          },
          "execution_count": 8,
          "metadata": {},
          "output_type": "execute_result"
        }
      ],
      "source": [
        "df.columns"
      ]
    },
    {
      "cell_type": "markdown",
      "metadata": {
        "id": "zWjc9bNvk6lI"
      },
      "source": [
        "And now let's select use the bracket accessors to select the columns `latitude` and `longitude` and `amountPaidOnBuildingClaim`."
      ]
    },
    {
      "cell_type": "code",
      "execution_count": null,
      "metadata": {
        "id": "m9QidAxlk6lI",
        "outputId": "82dd1912-f8eb-467f-cc41-af8346b8c9b5"
      },
      "outputs": [
        {
          "data": {
            "text/html": [
              "<div>\n",
              "<style scoped>\n",
              "    .dataframe tbody tr th:only-of-type {\n",
              "        vertical-align: middle;\n",
              "    }\n",
              "\n",
              "    .dataframe tbody tr th {\n",
              "        vertical-align: top;\n",
              "    }\n",
              "\n",
              "    .dataframe thead th {\n",
              "        text-align: right;\n",
              "    }\n",
              "</style>\n",
              "<table border=\"1\" class=\"dataframe\">\n",
              "  <thead>\n",
              "    <tr style=\"text-align: right;\">\n",
              "      <th></th>\n",
              "      <th>latitude</th>\n",
              "      <th>longitude</th>\n",
              "      <th>amountPaidOnBuildingClaim</th>\n",
              "    </tr>\n",
              "  </thead>\n",
              "  <tbody>\n",
              "    <tr>\n",
              "      <th>0</th>\n",
              "      <td>29.7</td>\n",
              "      <td>-95.5</td>\n",
              "      <td>195857.43</td>\n",
              "    </tr>\n",
              "    <tr>\n",
              "      <th>1</th>\n",
              "      <td>29.5</td>\n",
              "      <td>-95.1</td>\n",
              "      <td>0.00</td>\n",
              "    </tr>\n",
              "    <tr>\n",
              "      <th>2</th>\n",
              "      <td>29.8</td>\n",
              "      <td>-95.6</td>\n",
              "      <td>1420.89</td>\n",
              "    </tr>\n",
              "  </tbody>\n",
              "</table>\n",
              "</div>"
            ],
            "text/plain": [
              "   latitude  longitude  amountPaidOnBuildingClaim\n",
              "0      29.7      -95.5                  195857.43\n",
              "1      29.5      -95.1                       0.00\n",
              "2      29.8      -95.6                    1420.89"
            ]
          },
          "execution_count": 12,
          "metadata": {},
          "output_type": "execute_result"
        }
      ],
      "source": [
        "columns = ['latitude', 'longitude', 'amountPaidOnBuildingClaim']\n",
        "selected_df = df[columns]\n",
        "selected_df[:3]"
      ]
    },
    {
      "cell_type": "markdown",
      "metadata": {
        "id": "MKCJVEoak6lI"
      },
      "source": [
        "So we just greatly reduced the number of columns, and assigned this smaller dataframe to `selected_df`.  Let's go over how we did this."
      ]
    },
    {
      "cell_type": "markdown",
      "metadata": {
        "id": "E0_gprIok6lI"
      },
      "source": [
        "This is the format:"
      ]
    },
    {
      "cell_type": "markdown",
      "metadata": {
        "id": "iCWgLQ67k6lI"
      },
      "source": [
        "* dataframe, bracket accessors, list of columns"
      ]
    },
    {
      "cell_type": "markdown",
      "metadata": {
        "id": "o1lezNpSk6lI"
      },
      "source": [
        "```python\n",
        "df[ ['col_1', 'col_2']]\n",
        "```"
      ]
    },
    {
      "cell_type": "markdown",
      "metadata": {
        "id": "Zcd_ysmXk6lI"
      },
      "source": [
        "It can be hard to keep track of all of those brackets, so it is nice to first assign the list of columns to a variable."
      ]
    },
    {
      "cell_type": "code",
      "execution_count": null,
      "metadata": {
        "id": "kP21nPJnk6lI",
        "outputId": "ca148ba1-5840-41ad-f936-a33e046757b7"
      },
      "outputs": [
        {
          "data": {
            "text/html": [
              "<div>\n",
              "<style scoped>\n",
              "    .dataframe tbody tr th:only-of-type {\n",
              "        vertical-align: middle;\n",
              "    }\n",
              "\n",
              "    .dataframe tbody tr th {\n",
              "        vertical-align: top;\n",
              "    }\n",
              "\n",
              "    .dataframe thead th {\n",
              "        text-align: right;\n",
              "    }\n",
              "</style>\n",
              "<table border=\"1\" class=\"dataframe\">\n",
              "  <thead>\n",
              "    <tr style=\"text-align: right;\">\n",
              "      <th></th>\n",
              "      <th>latitude</th>\n",
              "      <th>longitude</th>\n",
              "      <th>amountPaidOnBuildingClaim</th>\n",
              "    </tr>\n",
              "  </thead>\n",
              "  <tbody>\n",
              "    <tr>\n",
              "      <th>0</th>\n",
              "      <td>29.7</td>\n",
              "      <td>-95.5</td>\n",
              "      <td>195857.43</td>\n",
              "    </tr>\n",
              "    <tr>\n",
              "      <th>1</th>\n",
              "      <td>29.5</td>\n",
              "      <td>-95.1</td>\n",
              "      <td>0.00</td>\n",
              "    </tr>\n",
              "    <tr>\n",
              "      <th>2</th>\n",
              "      <td>29.8</td>\n",
              "      <td>-95.6</td>\n",
              "      <td>1420.89</td>\n",
              "    </tr>\n",
              "  </tbody>\n",
              "</table>\n",
              "</div>"
            ],
            "text/plain": [
              "   latitude  longitude  amountPaidOnBuildingClaim\n",
              "0      29.7      -95.5                  195857.43\n",
              "1      29.5      -95.1                       0.00\n",
              "2      29.8      -95.6                    1420.89"
            ]
          },
          "execution_count": 11,
          "metadata": {},
          "output_type": "execute_result"
        }
      ],
      "source": [
        "columns = ['latitude', 'longitude', 'amountPaidOnBuildingClaim']\n",
        "selected_df = df[columns]\n",
        "selected_df[:3]"
      ]
    },
    {
      "cell_type": "markdown",
      "metadata": {
        "id": "Uq4rr901k6lJ"
      },
      "source": [
        "Notice that selecting *multiple columns* from a dataframe, we have a dataframe."
      ]
    },
    {
      "cell_type": "code",
      "execution_count": null,
      "metadata": {
        "id": "4KimwN-Pk6lJ",
        "outputId": "776c28b1-3894-41b3-c424-e3ec79932432"
      },
      "outputs": [
        {
          "data": {
            "text/plain": [
              "pandas.core.frame.DataFrame"
            ]
          },
          "execution_count": 14,
          "metadata": {},
          "output_type": "execute_result"
        }
      ],
      "source": [
        "type(df[['latitude', 'longitude']])"
      ]
    },
    {
      "cell_type": "markdown",
      "metadata": {
        "id": "2FPc_aHwk6lJ"
      },
      "source": [
        "But if we select only a single column from a dataframe, we have a series."
      ]
    },
    {
      "cell_type": "code",
      "execution_count": null,
      "metadata": {
        "id": "-1y3DWI_k6lJ",
        "outputId": "85a4e47b-27f7-413b-e55c-c5b9314988b3"
      },
      "outputs": [
        {
          "data": {
            "text/plain": [
              "pandas.core.series.Series"
            ]
          },
          "execution_count": 13,
          "metadata": {},
          "output_type": "execute_result"
        }
      ],
      "source": [
        "type(df['amountPaidOnBuildingClaim'])"
      ]
    },
    {
      "cell_type": "markdown",
      "metadata": {
        "id": "-sx6nDUqk6lJ"
      },
      "source": [
        "### Dropping Columns"
      ]
    },
    {
      "cell_type": "markdown",
      "metadata": {
        "id": "oAUw8xaYk6lJ"
      },
      "source": [
        "Just like we can select columns, we can also drop columns."
      ]
    },
    {
      "cell_type": "markdown",
      "metadata": {
        "id": "bK4g5iNrk6lJ"
      },
      "source": [
        "> Let's load up our data again."
      ]
    },
    {
      "cell_type": "code",
      "execution_count": null,
      "metadata": {
        "id": "dBdrKONuk6lK",
        "outputId": "b1afb53b-620b-4623-fd7e-92479378a1b5"
      },
      "outputs": [
        {
          "data": {
            "text/html": [
              "<div>\n",
              "<style scoped>\n",
              "    .dataframe tbody tr th:only-of-type {\n",
              "        vertical-align: middle;\n",
              "    }\n",
              "\n",
              "    .dataframe tbody tr th {\n",
              "        vertical-align: top;\n",
              "    }\n",
              "\n",
              "    .dataframe thead th {\n",
              "        text-align: right;\n",
              "    }\n",
              "</style>\n",
              "<table border=\"1\" class=\"dataframe\">\n",
              "  <thead>\n",
              "    <tr style=\"text-align: right;\">\n",
              "      <th></th>\n",
              "      <th>reportedCity</th>\n",
              "      <th>dateOfLoss</th>\n",
              "      <th>elevatedBuildingIndicator</th>\n",
              "      <th>floodZone</th>\n",
              "      <th>latitude</th>\n",
              "      <th>longitude</th>\n",
              "      <th>lowestFloodElevation</th>\n",
              "      <th>amountPaidOnBuildingClaim</th>\n",
              "      <th>amountPaidOnContentsClaim</th>\n",
              "      <th>yearofLoss</th>\n",
              "      <th>reportedZipcode</th>\n",
              "      <th>id</th>\n",
              "    </tr>\n",
              "  </thead>\n",
              "  <tbody>\n",
              "    <tr>\n",
              "      <th>0</th>\n",
              "      <td>HOUSTON</td>\n",
              "      <td>2017-08-27T00:00:00.000Z</td>\n",
              "      <td>False</td>\n",
              "      <td>X</td>\n",
              "      <td>29.7</td>\n",
              "      <td>-95.5</td>\n",
              "      <td>NaN</td>\n",
              "      <td>195857.43</td>\n",
              "      <td>0.0</td>\n",
              "      <td>2017-01-01T00:00:00.000Z</td>\n",
              "      <td>77096</td>\n",
              "      <td>5e398d6774cbd479fc898dea</td>\n",
              "    </tr>\n",
              "    <tr>\n",
              "      <th>1</th>\n",
              "      <td>HOUSTON</td>\n",
              "      <td>2008-09-12T00:00:00.000Z</td>\n",
              "      <td>False</td>\n",
              "      <td>X</td>\n",
              "      <td>29.5</td>\n",
              "      <td>-95.1</td>\n",
              "      <td>NaN</td>\n",
              "      <td>0.00</td>\n",
              "      <td>0.0</td>\n",
              "      <td>2008-01-01T00:00:00.000Z</td>\n",
              "      <td>77058</td>\n",
              "      <td>5e398d6774cbd479fc898dfc</td>\n",
              "    </tr>\n",
              "  </tbody>\n",
              "</table>\n",
              "</div>"
            ],
            "text/plain": [
              "  reportedCity                dateOfLoss elevatedBuildingIndicator floodZone  \\\n",
              "0      HOUSTON  2017-08-27T00:00:00.000Z                     False         X   \n",
              "1      HOUSTON  2008-09-12T00:00:00.000Z                     False         X   \n",
              "\n",
              "   latitude  longitude  lowestFloodElevation  amountPaidOnBuildingClaim  \\\n",
              "0      29.7      -95.5                   NaN                  195857.43   \n",
              "1      29.5      -95.1                   NaN                       0.00   \n",
              "\n",
              "   amountPaidOnContentsClaim                yearofLoss  reportedZipcode  \\\n",
              "0                        0.0  2017-01-01T00:00:00.000Z            77096   \n",
              "1                        0.0  2008-01-01T00:00:00.000Z            77058   \n",
              "\n",
              "                         id  \n",
              "0  5e398d6774cbd479fc898dea  \n",
              "1  5e398d6774cbd479fc898dfc  "
            ]
          },
          "execution_count": 17,
          "metadata": {},
          "output_type": "execute_result"
        }
      ],
      "source": [
        "import pandas as pd\n",
        "url = \"https://raw.githubusercontent.com/jigsawlabs-student/pandas-free-curriculum/master/houston_claims.csv\"\n",
        "df = pd.read_csv(url, index_col = 0)\n",
        "df[:2]"
      ]
    },
    {
      "cell_type": "code",
      "execution_count": null,
      "metadata": {
        "id": "1h3OWitfk6lK",
        "outputId": "5e8a4a50-beff-4e54-b9f9-1a9698931164"
      },
      "outputs": [
        {
          "data": {
            "text/plain": [
              "Index(['reportedCity', 'dateOfLoss', 'elevatedBuildingIndicator', 'floodZone',\n",
              "       'latitude', 'longitude', 'lowestFloodElevation',\n",
              "       'amountPaidOnBuildingClaim', 'amountPaidOnContentsClaim', 'yearofLoss',\n",
              "       'reportedZipcode', 'id'],\n",
              "      dtype='object')"
            ]
          },
          "execution_count": 19,
          "metadata": {},
          "output_type": "execute_result"
        }
      ],
      "source": [
        "df.columns"
      ]
    },
    {
      "cell_type": "markdown",
      "metadata": {
        "id": "7YVtBhu6k6lK"
      },
      "source": [
        "We can provide a list of columns to drop with the `drop` method.  The method returns to us a new dataframe with the specified columns removed."
      ]
    },
    {
      "cell_type": "code",
      "execution_count": null,
      "metadata": {
        "id": "4HC7N1Jyk6lK",
        "outputId": "c408dd8d-2f58-49d5-84ec-51b9823adb2e"
      },
      "outputs": [
        {
          "data": {
            "text/html": [
              "<div>\n",
              "<style scoped>\n",
              "    .dataframe tbody tr th:only-of-type {\n",
              "        vertical-align: middle;\n",
              "    }\n",
              "\n",
              "    .dataframe tbody tr th {\n",
              "        vertical-align: top;\n",
              "    }\n",
              "\n",
              "    .dataframe thead th {\n",
              "        text-align: right;\n",
              "    }\n",
              "</style>\n",
              "<table border=\"1\" class=\"dataframe\">\n",
              "  <thead>\n",
              "    <tr style=\"text-align: right;\">\n",
              "      <th></th>\n",
              "      <th>floodZone</th>\n",
              "      <th>latitude</th>\n",
              "      <th>longitude</th>\n",
              "      <th>lowestFloodElevation</th>\n",
              "      <th>amountPaidOnBuildingClaim</th>\n",
              "      <th>amountPaidOnContentsClaim</th>\n",
              "      <th>yearofLoss</th>\n",
              "      <th>reportedZipcode</th>\n",
              "      <th>id</th>\n",
              "    </tr>\n",
              "  </thead>\n",
              "  <tbody>\n",
              "    <tr>\n",
              "      <th>0</th>\n",
              "      <td>X</td>\n",
              "      <td>29.7</td>\n",
              "      <td>-95.5</td>\n",
              "      <td>NaN</td>\n",
              "      <td>195857.43</td>\n",
              "      <td>0.0</td>\n",
              "      <td>2017-01-01T00:00:00.000Z</td>\n",
              "      <td>77096</td>\n",
              "      <td>5e398d6774cbd479fc898dea</td>\n",
              "    </tr>\n",
              "    <tr>\n",
              "      <th>1</th>\n",
              "      <td>X</td>\n",
              "      <td>29.5</td>\n",
              "      <td>-95.1</td>\n",
              "      <td>NaN</td>\n",
              "      <td>0.00</td>\n",
              "      <td>0.0</td>\n",
              "      <td>2008-01-01T00:00:00.000Z</td>\n",
              "      <td>77058</td>\n",
              "      <td>5e398d6774cbd479fc898dfc</td>\n",
              "    </tr>\n",
              "    <tr>\n",
              "      <th>2</th>\n",
              "      <td>X</td>\n",
              "      <td>29.8</td>\n",
              "      <td>-95.6</td>\n",
              "      <td>NaN</td>\n",
              "      <td>1420.89</td>\n",
              "      <td>0.0</td>\n",
              "      <td>2004-01-01T00:00:00.000Z</td>\n",
              "      <td>77042</td>\n",
              "      <td>5e398d6774cbd479fc898e4b</td>\n",
              "    </tr>\n",
              "    <tr>\n",
              "      <th>3</th>\n",
              "      <td>X</td>\n",
              "      <td>29.8</td>\n",
              "      <td>-95.6</td>\n",
              "      <td>NaN</td>\n",
              "      <td>2019.66</td>\n",
              "      <td>0.0</td>\n",
              "      <td>2009-01-01T00:00:00.000Z</td>\n",
              "      <td>77042</td>\n",
              "      <td>5e398d6774cbd479fc898e4c</td>\n",
              "    </tr>\n",
              "  </tbody>\n",
              "</table>\n",
              "</div>"
            ],
            "text/plain": [
              "  floodZone  latitude  longitude  lowestFloodElevation  \\\n",
              "0         X      29.7      -95.5                   NaN   \n",
              "1         X      29.5      -95.1                   NaN   \n",
              "2         X      29.8      -95.6                   NaN   \n",
              "3         X      29.8      -95.6                   NaN   \n",
              "\n",
              "   amountPaidOnBuildingClaim  amountPaidOnContentsClaim  \\\n",
              "0                  195857.43                        0.0   \n",
              "1                       0.00                        0.0   \n",
              "2                    1420.89                        0.0   \n",
              "3                    2019.66                        0.0   \n",
              "\n",
              "                 yearofLoss  reportedZipcode                        id  \n",
              "0  2017-01-01T00:00:00.000Z            77096  5e398d6774cbd479fc898dea  \n",
              "1  2008-01-01T00:00:00.000Z            77058  5e398d6774cbd479fc898dfc  \n",
              "2  2004-01-01T00:00:00.000Z            77042  5e398d6774cbd479fc898e4b  \n",
              "3  2009-01-01T00:00:00.000Z            77042  5e398d6774cbd479fc898e4c  "
            ]
          },
          "execution_count": 20,
          "metadata": {},
          "output_type": "execute_result"
        }
      ],
      "source": [
        "df_dropped = df.drop(columns = ['reportedCity', 'dateOfLoss', 'elevatedBuildingIndicator'])\n",
        "df_dropped[:4]"
      ]
    },
    {
      "cell_type": "markdown",
      "metadata": {
        "id": "gYYXk4uRk6lK"
      },
      "source": [
        "### Summary"
      ]
    },
    {
      "cell_type": "markdown",
      "metadata": {
        "id": "E-OpB1-Dk6lK"
      },
      "source": [
        "In this lesson, we learned about how to select columns from our pandas dataframe.  We can start by seeing all of the columns with `columns` method."
      ]
    },
    {
      "cell_type": "code",
      "execution_count": null,
      "metadata": {
        "id": "jsAWocpvk6lO",
        "outputId": "9ae1e22e-173d-4c7f-f57e-cce3b637efc4"
      },
      "outputs": [
        {
          "data": {
            "text/plain": [
              "Index(['reportedCity', 'dateOfLoss', 'elevatedBuildingIndicator', 'floodZone',\n",
              "       'latitude', 'longitude', 'lowestFloodElevation',\n",
              "       'amountPaidOnBuildingClaim', 'amountPaidOnContentsClaim', 'yearofLoss',\n",
              "       'reportedZipcode', 'id'],\n",
              "      dtype='object')"
            ]
          },
          "execution_count": 21,
          "metadata": {},
          "output_type": "execute_result"
        }
      ],
      "source": [
        "df.columns"
      ]
    },
    {
      "cell_type": "markdown",
      "metadata": {
        "id": "9RHeustGk6lO"
      },
      "source": [
        "We can select a single column by either using the bracket accessors or the dot notation, and then assign that column a variable."
      ]
    },
    {
      "cell_type": "code",
      "execution_count": null,
      "metadata": {
        "id": "u6LxbaMLk6lO"
      },
      "outputs": [],
      "source": [
        "loss_date = df['dateOfLoss']"
      ]
    },
    {
      "cell_type": "code",
      "execution_count": null,
      "metadata": {
        "id": "Hsiboq2ek6lP"
      },
      "outputs": [],
      "source": [
        "loss_date = df.dateOfLoss"
      ]
    },
    {
      "cell_type": "markdown",
      "metadata": {
        "id": "zb965-YKk6lP"
      },
      "source": [
        "We can select multiple columns by still using the bracket accessors, and then passing through a list of columns that we would like to select."
      ]
    },
    {
      "cell_type": "code",
      "execution_count": null,
      "metadata": {
        "id": "u_sdRRvRk6lP",
        "outputId": "c4371f06-2682-4664-8a36-42e193c3b31c"
      },
      "outputs": [
        {
          "data": {
            "text/html": [
              "<div>\n",
              "<style scoped>\n",
              "    .dataframe tbody tr th:only-of-type {\n",
              "        vertical-align: middle;\n",
              "    }\n",
              "\n",
              "    .dataframe tbody tr th {\n",
              "        vertical-align: top;\n",
              "    }\n",
              "\n",
              "    .dataframe thead th {\n",
              "        text-align: right;\n",
              "    }\n",
              "</style>\n",
              "<table border=\"1\" class=\"dataframe\">\n",
              "  <thead>\n",
              "    <tr style=\"text-align: right;\">\n",
              "      <th></th>\n",
              "      <th>reportedCity</th>\n",
              "      <th>dateOfLoss</th>\n",
              "      <th>elevatedBuildingIndicator</th>\n",
              "    </tr>\n",
              "  </thead>\n",
              "  <tbody>\n",
              "    <tr>\n",
              "      <th>0</th>\n",
              "      <td>HOUSTON</td>\n",
              "      <td>2017-08-27T00:00:00.000Z</td>\n",
              "      <td>False</td>\n",
              "    </tr>\n",
              "    <tr>\n",
              "      <th>1</th>\n",
              "      <td>HOUSTON</td>\n",
              "      <td>2008-09-12T00:00:00.000Z</td>\n",
              "      <td>False</td>\n",
              "    </tr>\n",
              "    <tr>\n",
              "      <th>2</th>\n",
              "      <td>HOUSTON</td>\n",
              "      <td>2004-06-29T00:00:00.000Z</td>\n",
              "      <td>False</td>\n",
              "    </tr>\n",
              "  </tbody>\n",
              "</table>\n",
              "</div>"
            ],
            "text/plain": [
              "  reportedCity                dateOfLoss elevatedBuildingIndicator\n",
              "0      HOUSTON  2017-08-27T00:00:00.000Z                     False\n",
              "1      HOUSTON  2008-09-12T00:00:00.000Z                     False\n",
              "2      HOUSTON  2004-06-29T00:00:00.000Z                     False"
            ]
          },
          "execution_count": 25,
          "metadata": {},
          "output_type": "execute_result"
        }
      ],
      "source": [
        "columns = ['reportedCity', 'dateOfLoss', 'elevatedBuildingIndicator']\n",
        "selected = df[columns]\n",
        "selected[:3]"
      ]
    },
    {
      "cell_type": "markdown",
      "metadata": {
        "id": "EVun0c2zk6lP"
      },
      "source": [
        "We can also drop multiple columns with the `drop` method."
      ]
    },
    {
      "cell_type": "code",
      "execution_count": null,
      "metadata": {
        "id": "uDMMe5KXk6lP",
        "outputId": "b492936b-4a6b-4130-efa5-7c779b62f0ff"
      },
      "outputs": [
        {
          "data": {
            "text/html": [
              "<div>\n",
              "<style scoped>\n",
              "    .dataframe tbody tr th:only-of-type {\n",
              "        vertical-align: middle;\n",
              "    }\n",
              "\n",
              "    .dataframe tbody tr th {\n",
              "        vertical-align: top;\n",
              "    }\n",
              "\n",
              "    .dataframe thead th {\n",
              "        text-align: right;\n",
              "    }\n",
              "</style>\n",
              "<table border=\"1\" class=\"dataframe\">\n",
              "  <thead>\n",
              "    <tr style=\"text-align: right;\">\n",
              "      <th></th>\n",
              "      <th>floodZone</th>\n",
              "      <th>latitude</th>\n",
              "      <th>longitude</th>\n",
              "      <th>lowestFloodElevation</th>\n",
              "      <th>amountPaidOnBuildingClaim</th>\n",
              "      <th>amountPaidOnContentsClaim</th>\n",
              "      <th>yearofLoss</th>\n",
              "      <th>reportedZipcode</th>\n",
              "      <th>id</th>\n",
              "    </tr>\n",
              "  </thead>\n",
              "  <tbody>\n",
              "    <tr>\n",
              "      <th>0</th>\n",
              "      <td>X</td>\n",
              "      <td>29.7</td>\n",
              "      <td>-95.5</td>\n",
              "      <td>NaN</td>\n",
              "      <td>195857.43</td>\n",
              "      <td>0.0</td>\n",
              "      <td>2017-01-01T00:00:00.000Z</td>\n",
              "      <td>77096</td>\n",
              "      <td>5e398d6774cbd479fc898dea</td>\n",
              "    </tr>\n",
              "    <tr>\n",
              "      <th>1</th>\n",
              "      <td>X</td>\n",
              "      <td>29.5</td>\n",
              "      <td>-95.1</td>\n",
              "      <td>NaN</td>\n",
              "      <td>0.00</td>\n",
              "      <td>0.0</td>\n",
              "      <td>2008-01-01T00:00:00.000Z</td>\n",
              "      <td>77058</td>\n",
              "      <td>5e398d6774cbd479fc898dfc</td>\n",
              "    </tr>\n",
              "    <tr>\n",
              "      <th>2</th>\n",
              "      <td>X</td>\n",
              "      <td>29.8</td>\n",
              "      <td>-95.6</td>\n",
              "      <td>NaN</td>\n",
              "      <td>1420.89</td>\n",
              "      <td>0.0</td>\n",
              "      <td>2004-01-01T00:00:00.000Z</td>\n",
              "      <td>77042</td>\n",
              "      <td>5e398d6774cbd479fc898e4b</td>\n",
              "    </tr>\n",
              "    <tr>\n",
              "      <th>3</th>\n",
              "      <td>X</td>\n",
              "      <td>29.8</td>\n",
              "      <td>-95.6</td>\n",
              "      <td>NaN</td>\n",
              "      <td>2019.66</td>\n",
              "      <td>0.0</td>\n",
              "      <td>2009-01-01T00:00:00.000Z</td>\n",
              "      <td>77042</td>\n",
              "      <td>5e398d6774cbd479fc898e4c</td>\n",
              "    </tr>\n",
              "  </tbody>\n",
              "</table>\n",
              "</div>"
            ],
            "text/plain": [
              "  floodZone  latitude  longitude  lowestFloodElevation  \\\n",
              "0         X      29.7      -95.5                   NaN   \n",
              "1         X      29.5      -95.1                   NaN   \n",
              "2         X      29.8      -95.6                   NaN   \n",
              "3         X      29.8      -95.6                   NaN   \n",
              "\n",
              "   amountPaidOnBuildingClaim  amountPaidOnContentsClaim  \\\n",
              "0                  195857.43                        0.0   \n",
              "1                       0.00                        0.0   \n",
              "2                    1420.89                        0.0   \n",
              "3                    2019.66                        0.0   \n",
              "\n",
              "                 yearofLoss  reportedZipcode                        id  \n",
              "0  2017-01-01T00:00:00.000Z            77096  5e398d6774cbd479fc898dea  \n",
              "1  2008-01-01T00:00:00.000Z            77058  5e398d6774cbd479fc898dfc  \n",
              "2  2004-01-01T00:00:00.000Z            77042  5e398d6774cbd479fc898e4b  \n",
              "3  2009-01-01T00:00:00.000Z            77042  5e398d6774cbd479fc898e4c  "
            ]
          },
          "execution_count": 26,
          "metadata": {},
          "output_type": "execute_result"
        }
      ],
      "source": [
        "df_dropped = df.drop(columns = ['reportedCity', 'dateOfLoss', 'elevatedBuildingIndicator'])\n",
        "df_dropped[:4]"
      ]
    }
  ],
  "metadata": {
    "kernelspec": {
      "display_name": "Python 3",
      "language": "python",
      "name": "python3"
    },
    "language_info": {
      "codemirror_mode": {
        "name": "ipython",
        "version": 3
      },
      "file_extension": ".py",
      "mimetype": "text/x-python",
      "name": "python",
      "nbconvert_exporter": "python",
      "pygments_lexer": "ipython3",
      "version": "3.8.8"
    },
    "colab": {
      "provenance": []
    }
  },
  "nbformat": 4,
  "nbformat_minor": 0
}